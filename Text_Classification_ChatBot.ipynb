{
  "cells": [
    {
      "source": [
        "import os\n",
        "import sys\n",
        "from tempfile import NamedTemporaryFile\n",
        "from urllib.request import urlopen\n",
        "from urllib.parse import unquote, urlparse\n",
        "from urllib.error import HTTPError\n",
        "from zipfile import ZipFile\n",
        "import tarfile\n",
        "import shutil\n",
        "\n",
        "CHUNK_SIZE = 40960\n",
        "DATA_SOURCE_MAPPING = ':https%3A%2F%2Fstorage.googleapis.com%2Fkaggle-data-sets%2F897%2F1638%2Fbundle%2Farchive.zip%3FX-Goog-Algorithm%3DGOOG4-RSA-SHA256%26X-Goog-Credential%3Dgcp-kaggle-com%2540kaggle-161607.iam.gserviceaccount.com%252F20240901%252Fauto%252Fstorage%252Fgoog4_request%26X-Goog-Date%3D20240901T080318Z%26X-Goog-Expires%3D259200%26X-Goog-SignedHeaders%3Dhost%26X-Goog-Signature%3D72b35b8dfe213048682b8f18b0d68a4a7407d01be4bf6ac0e562caee06ef31794b9286f2bd309f26e9f27a8e4073f3cd3206a86d75c908dc7a8f3ad9eb35e8fb01c6a2009898f5aac41528a45ce6b33c0ad8c21ef95dbe3ec057f23df4dbdc8fad5bc8eb8970ae670ed52b981eccb5c4ac6c27214dd20899bd0adc520f91aa2a6a7bcd68bc5c1ab6972c0440d8200484f7f0bfd3073f4f38f088540c5b78a575fb3746c7c29f8f3014e1d00779bdfea4ad4210039879905bcb6fe64b7ecfa0d6f294ecf2f37da5e70c07418689f3ca02e0b05068e95f7581a58117aa7101bc96c23b7816f7c946e6c5bc8e5506072610e0e0520a74302d1b0d19c10f80c16a3d'\n",
        "\n",
        "KAGGLE_INPUT_PATH='/kaggle/input'\n",
        "KAGGLE_WORKING_PATH='/kaggle/working'\n",
        "KAGGLE_SYMLINK='kaggle'\n",
        "\n",
        "!umount /kaggle/input/ 2> /dev/null\n",
        "shutil.rmtree('/kaggle/input', ignore_errors=True)\n",
        "os.makedirs(KAGGLE_INPUT_PATH, 0o777, exist_ok=True)\n",
        "os.makedirs(KAGGLE_WORKING_PATH, 0o777, exist_ok=True)\n",
        "\n",
        "try:\n",
        "  os.symlink(KAGGLE_INPUT_PATH, os.path.join(\"..\", 'input'), target_is_directory=True)\n",
        "except FileExistsError:\n",
        "  pass\n",
        "try:\n",
        "  os.symlink(KAGGLE_WORKING_PATH, os.path.join(\"..\", 'working'), target_is_directory=True)\n",
        "except FileExistsError:\n",
        "  pass\n",
        "\n",
        "for data_source_mapping in DATA_SOURCE_MAPPING.split(','):\n",
        "    directory, download_url_encoded = data_source_mapping.split(':')\n",
        "    download_url = unquote(download_url_encoded)\n",
        "    filename = urlparse(download_url).path\n",
        "    destination_path = os.path.join(KAGGLE_INPUT_PATH, directory)\n",
        "    try:\n",
        "        with urlopen(download_url) as fileres, NamedTemporaryFile() as tfile:\n",
        "            total_length = fileres.headers['content-length']\n",
        "            print(f'Downloading {directory}, {total_length} bytes compressed')\n",
        "            dl = 0\n",
        "            data = fileres.read(CHUNK_SIZE)\n",
        "            while len(data) > 0:\n",
        "                dl += len(data)\n",
        "                tfile.write(data)\n",
        "                done = int(50 * dl / int(total_length))\n",
        "                sys.stdout.write(f\"\\r[{'=' * done}{' ' * (50-done)}] {dl} bytes downloaded\")\n",
        "                sys.stdout.flush()\n",
        "                data = fileres.read(CHUNK_SIZE)\n",
        "            if filename.endswith('.zip'):\n",
        "              with ZipFile(tfile) as zfile:\n",
        "                zfile.extractall(destination_path)\n",
        "            else:\n",
        "              with tarfile.open(tfile.name) as tarfile:\n",
        "                tarfile.extractall(destination_path)\n",
        "            print(f'\\nDownloaded and uncompressed: {directory}')\n",
        "    except HTTPError as e:\n",
        "        print(f'Failed to load (likely expired) {download_url} to path {destination_path}')\n",
        "        continue\n",
        "    except OSError as e:\n",
        "        print(f'Failed to load {download_url} to path {destination_path}')\n",
        "        continue\n",
        "\n",
        "print('Data source import complete.')\n"
      ],
      "metadata": {
        "id": "ga-EslW8nKvb"
      },
      "cell_type": "code",
      "outputs": [],
      "execution_count": null
    },
    {
      "cell_type": "code",
      "execution_count": null,
      "metadata": {
        "_cell_guid": "e538bc7b-9a77-3480-6b2c-a2a766441b74",
        "id": "JI3lh9gAnKve",
        "outputId": "b8b3a773-62b0-4d4e-bd3f-b187632287ad"
      },
      "outputs": [
        {
          "data": {
            "text/html": [
              "<script>requirejs.config({paths: { 'plotly': ['https://cdn.plot.ly/plotly-latest.min']},});if(!window.Plotly) {{require(['plotly'],function(plotly) {window.Plotly=plotly;});}}</script>"
            ],
            "text/vnd.plotly.v1+html": [
              "<script>requirejs.config({paths: { 'plotly': ['https://cdn.plot.ly/plotly-latest.min']},});if(!window.Plotly) {{require(['plotly'],function(plotly) {window.Plotly=plotly;});}}</script>"
            ]
          },
          "metadata": {},
          "output_type": "display_data"
        },
        {
          "name": "stdout",
          "output_type": "stream",
          "text": [
            "Sheet_1.csv\n",
            "Sheet_2.csv\n",
            "\n"
          ]
        },
        {
          "name": "stderr",
          "output_type": "stream",
          "text": [
            "/opt/conda/lib/python3.6/site-packages/sklearn/cross_validation.py:43: DeprecationWarning:\n",
            "\n",
            "This module was deprecated in version 0.18 in favor of the model_selection module into which all the refactored classes and functions are moved. Also note that the interface of the new CV iterators are different from that of this module. This module will be removed in 0.20.\n",
            "\n"
          ]
        }
      ],
      "source": [
        "import numpy as np # linear algebra\n",
        "import pandas as pd # data processing, CSV file I/O (e.g. pd.read_csv)\n",
        "import pandas as pd\n",
        "import numpy as np\n",
        "import re\n",
        "import string\n",
        "import nltk\n",
        "from nltk.corpus import stopwords\n",
        "stop = set(stopwords.words('english'))\n",
        "from wordcloud import WordCloud, STOPWORDS\n",
        "import matplotlib as plty\n",
        "import matplotlib.pyplot as plt\n",
        "import seaborn as sns\n",
        "%matplotlib inline\n",
        "import sklearn\n",
        "\n",
        "\n",
        "import numpy as np\n",
        "import pandas as pd\n",
        "import seaborn as sns\n",
        "import matplotlib.pyplot as plt\n",
        "from subprocess import check_output\n",
        "\n",
        "%matplotlib inline\n",
        "import plotly.offline as py\n",
        "py.init_notebook_mode(connected=True)\n",
        "import plotly.graph_objs as go\n",
        "import plotly.tools as tls\n",
        "\n",
        "import plotly.graph_objs as go\n",
        "from sklearn import preprocessing\n",
        "Encode = preprocessing.LabelEncoder()\n",
        "from sklearn.feature_extraction.text import CountVectorizer\n",
        "from sklearn.feature_extraction.text import TfidfVectorizer\n",
        "tfid = TfidfVectorizer()\n",
        "vect = CountVectorizer()\n",
        "from sklearn.cross_validation import train_test_split\n",
        "from sklearn.naive_bayes import MultinomialNB\n",
        "from sklearn.manifold import TSNE\n",
        "NB = MultinomialNB()\n",
        "\n",
        "import nltk\n",
        "from nltk.corpus import stopwords\n",
        "stopwords = stopwords.words(\"english\")\n",
        "from sklearn import metrics\n",
        "from sklearn.svm import SVC\n",
        "from sklearn.ensemble import RandomForestClassifier\n",
        "\n",
        "print(check_output([\"ls\", \"../input\"]).decode(\"utf8\"))"
      ]
    },
    {
      "cell_type": "code",
      "execution_count": null,
      "metadata": {
        "_cell_guid": "687112bb-ac1f-bc86-98a8-b7db85f48c24",
        "id": "n18lZdhFnKvf"
      },
      "outputs": [],
      "source": [
        "chatbot = pd.read_csv(\"../input/Sheet_1.csv\",usecols=['response_id','class','response_text'],encoding='latin-1')\n",
        "resume = pd.read_csv(\"../input/Sheet_2.csv\",encoding='latin-1')"
      ]
    },
    {
      "cell_type": "markdown",
      "metadata": {
        "_cell_guid": "66901ca2-5c89-a72d-82a6-17b99ba4f081",
        "id": "75tFDiCfnKvg"
      },
      "source": [
        "****Sheet_1.csv contains 80 user responses, in the response_text column, to a therapy chatbot. Bot said: 'Describe a time when you have acted as a resource for someone else'.  User responded. If a response is 'not flagged', the user can continue talking to the bot. If it is 'flagged', the user is referred to help. ****"
      ]
    },
    {
      "cell_type": "code",
      "execution_count": null,
      "metadata": {
        "_cell_guid": "0c047e09-1666-06ec-e824-d0474271c58a",
        "id": "gZ3S9fHcnKvh",
        "outputId": "7f8dc863-a645-4900-9ca4-c8818829b211"
      },
      "outputs": [
        {
          "data": {
            "text/html": [
              "<div>\n",
              "<table border=\"1\" class=\"dataframe\">\n",
              "  <thead>\n",
              "    <tr style=\"text-align: right;\">\n",
              "      <th></th>\n",
              "      <th>response_id</th>\n",
              "      <th>class</th>\n",
              "      <th>response_text</th>\n",
              "    </tr>\n",
              "  </thead>\n",
              "  <tbody>\n",
              "    <tr>\n",
              "      <th>0</th>\n",
              "      <td>response_1</td>\n",
              "      <td>not_flagged</td>\n",
              "      <td>I try and avoid this sort of conflict</td>\n",
              "    </tr>\n",
              "    <tr>\n",
              "      <th>1</th>\n",
              "      <td>response_2</td>\n",
              "      <td>flagged</td>\n",
              "      <td>Had a friend open up to me about his mental ad...</td>\n",
              "    </tr>\n",
              "    <tr>\n",
              "      <th>2</th>\n",
              "      <td>response_3</td>\n",
              "      <td>flagged</td>\n",
              "      <td>I saved a girl from suicide once. She was goin...</td>\n",
              "    </tr>\n",
              "    <tr>\n",
              "      <th>3</th>\n",
              "      <td>response_4</td>\n",
              "      <td>not_flagged</td>\n",
              "      <td>i cant think of one really...i think i may hav...</td>\n",
              "    </tr>\n",
              "    <tr>\n",
              "      <th>4</th>\n",
              "      <td>response_5</td>\n",
              "      <td>not_flagged</td>\n",
              "      <td>Only really one friend who doesn't fit into th...</td>\n",
              "    </tr>\n",
              "  </tbody>\n",
              "</table>\n",
              "</div>"
            ],
            "text/plain": [
              "  response_id        class                                      response_text\n",
              "0  response_1  not_flagged              I try and avoid this sort of conflict\n",
              "1  response_2      flagged  Had a friend open up to me about his mental ad...\n",
              "2  response_3      flagged  I saved a girl from suicide once. She was goin...\n",
              "3  response_4  not_flagged  i cant think of one really...i think i may hav...\n",
              "4  response_5  not_flagged  Only really one friend who doesn't fit into th..."
            ]
          },
          "execution_count": 3,
          "metadata": {},
          "output_type": "execute_result"
        }
      ],
      "source": [
        "chatbot.head(5)"
      ]
    },
    {
      "cell_type": "code",
      "execution_count": null,
      "metadata": {
        "_cell_guid": "88c1f23f-5d38-6294-1e7f-7e9897ef7d90",
        "id": "Rathx124nKvh",
        "outputId": "7d001d7c-3b2a-4bec-959d-79b03c8a169a"
      },
      "outputs": [
        {
          "data": {
            "text/plain": [
              "not_flagged    55\n",
              "flagged        25\n",
              "Name: class, dtype: int64"
            ]
          },
          "execution_count": 4,
          "metadata": {},
          "output_type": "execute_result"
        }
      ],
      "source": [
        "chatbot['class'].value_counts()"
      ]
    },
    {
      "cell_type": "code",
      "execution_count": null,
      "metadata": {
        "_cell_guid": "84b71261-4dd7-9d77-a035-df9bded2589a",
        "id": "L7QzMkZ9nKvi",
        "outputId": "58920e2f-292a-4e92-d786-0325d368a076"
      },
      "outputs": [
        {
          "data": {
            "image/png": "[encoded data removed]",
            "text/plain": [
              "<matplotlib.figure.Figure at 0x7f745dcd8e48>"
            ]
          },
          "metadata": {},
          "output_type": "display_data"
        }
      ],
      "source": [
        "def cloud(text):\n",
        "    wordcloud = WordCloud(background_color=\"blue\",stopwords=stop).generate(\" \".join([i for i in text.str.upper()]))\n",
        "    plt.imshow(wordcloud)\n",
        "    plt.axis(\"off\")\n",
        "    plt.title(\"Chat Bot Response\")\n",
        "cloud(chatbot['response_text'])"
      ]
    },
    {
      "cell_type": "markdown",
      "metadata": {
        "_cell_guid": "ecfa8410-22d2-4cb1-95d8-a75fdf8abca1",
        "id": "B60uD9HOnKvj"
      },
      "source": [
        "**Model Building **"
      ]
    },
    {
      "cell_type": "code",
      "execution_count": null,
      "metadata": {
        "_cell_guid": "55300420-ad86-6fac-ed85-8b16f9578b51",
        "id": "zQLyxsXXnKvj"
      },
      "outputs": [],
      "source": [
        "chatbot['Label'] = Encode.fit_transform(chatbot['class'])"
      ]
    },
    {
      "cell_type": "code",
      "execution_count": null,
      "metadata": {
        "_cell_guid": "f23e889a-d8c4-02b3-e3e1-73055b00ffe8",
        "id": "sJYzwK37nKvk",
        "outputId": "9639fdc8-450e-4cb9-fd1d-b77b46c4bc26"
      },
      "outputs": [
        {
          "data": {
            "text/plain": [
              "1    55\n",
              "0    25\n",
              "Name: Label, dtype: int64"
            ]
          },
          "execution_count": 7,
          "metadata": {},
          "output_type": "execute_result"
        }
      ],
      "source": [
        "chatbot['Label'].value_counts()\n",
        "#not_flagged    55\n",
        "#flagged        25"
      ]
    },
    {
      "cell_type": "markdown",
      "metadata": {
        "_cell_guid": "5d7abb9d-0457-2d70-0280-35b794f0577d",
        "id": "kyHgFKWrnKvk"
      },
      "source": [
        "**Naive Bayes**"
      ]
    },
    {
      "cell_type": "code",
      "execution_count": null,
      "metadata": {
        "_cell_guid": "8734077e-a3bf-5a1d-56bb-3251698e1035",
        "id": "R3_6ptKRnKvk",
        "outputId": "af139de9-c568-4503-db18-118125d13a50"
      },
      "outputs": [
        {
          "data": {
            "text/plain": [
              "0.69999999999999996"
            ]
          },
          "execution_count": 8,
          "metadata": {},
          "output_type": "execute_result"
        }
      ],
      "source": [
        "x = chatbot.response_text\n",
        "y = chatbot.Label\n",
        "x_train,x_test,y_train,y_test = train_test_split(x,y,random_state=1)\n",
        "x_train_dtm = vect.fit_transform(x_train)\n",
        "x_test_dtm = vect.transform(x_test)\n",
        "NB.fit(x_train_dtm,y_train)\n",
        "y_predict = NB.predict(x_test_dtm)\n",
        "metrics.accuracy_score(y_test,y_predict)\n",
        "\n",
        "\n",
        "\n",
        "\n"
      ]
    },
    {
      "cell_type": "markdown",
      "metadata": {
        "_cell_guid": "21073b41-ae43-082a-33a4-fbe16005be99",
        "id": "sz9wSpGTnKvk"
      },
      "source": [
        "**Random Forest**"
      ]
    },
    {
      "cell_type": "code",
      "execution_count": null,
      "metadata": {
        "_cell_guid": "f292402a-48e9-25a6-37c7-4370223e30a5",
        "id": "toHbTWCKnKvl",
        "outputId": "da89713e-c2ec-4d8f-a4a9-632d39949207"
      },
      "outputs": [
        {
          "data": {
            "text/plain": [
              "0.80000000000000004"
            ]
          },
          "execution_count": 9,
          "metadata": {},
          "output_type": "execute_result"
        }
      ],
      "source": [
        "rf = RandomForestClassifier(max_depth=10,max_features=10)\n",
        "rf.fit(x_train_dtm,y_train)\n",
        "rf_predict = rf.predict(x_test_dtm)\n",
        "metrics.accuracy_score(y_test,rf_predict)"
      ]
    },
    {
      "cell_type": "code",
      "execution_count": null,
      "metadata": {
        "_cell_guid": "72c8ae6e-987e-e2ae-a079-c79f6e40605b",
        "id": "f_pT9KXTnKvl",
        "outputId": "841abede-0cd9-4bbd-d587-3fce183236c8"
      },
      "outputs": [
        {
          "data": {
            "text/plain": [
              "80"
            ]
          },
          "execution_count": 10,
          "metadata": {},
          "output_type": "execute_result"
        }
      ],
      "source": [
        "Chatbot_Text = chatbot[\"response_text\"]\n",
        "len(Chatbot_Text)"
      ]
    },
    {
      "cell_type": "code",
      "execution_count": null,
      "metadata": {
        "_cell_guid": "f14ab6a6-f083-942e-e2d9-37be21b129bc",
        "id": "vWjIs0E0nKvl"
      },
      "outputs": [],
      "source": [
        "Tf_idf = CountVectorizer(max_features=256).fit_transform(Chatbot_Text.values)"
      ]
    },
    {
      "cell_type": "code",
      "execution_count": null,
      "metadata": {
        "_cell_guid": "dafcbec6-3a5a-3826-9289-130686ef380c",
        "id": "Cb095TsLnKvl",
        "outputId": "1516243b-5fd9-41c0-c883-809defae960e"
      },
      "outputs": [
        {
          "name": "stdout",
          "output_type": "stream",
          "text": [
            "[t-SNE] Computing pairwise distances...\n",
            "[t-SNE] Computing 79 nearest neighbors...\n",
            "[t-SNE] Computed conditional probabilities for sample 80 / 80\n",
            "[t-SNE] Mean sigma: 2.118454\n",
            "[t-SNE] Iteration 25: error = -0.4503966, gradient norm = 0.0007019\n",
            "[t-SNE] Iteration 25: gradient norm 0.000702. Finished.\n",
            "[t-SNE] Iteration 50: error = -0.7398843, gradient norm = 0.0004044\n",
            "[t-SNE] Iteration 50: gradient norm 0.000404. Finished.\n",
            "[t-SNE] KL divergence after 50 iterations with early exaggeration: -0.739884\n",
            "[t-SNE] Iteration 75: error = -0.8899551, gradient norm = 0.0003041\n",
            "[t-SNE] Iteration 75: gradient norm 0.000304. Finished.\n",
            "[t-SNE] Error after 75 iterations: -0.889955\n"
          ]
        }
      ],
      "source": [
        "tsne = TSNE(\n",
        "    n_components=3,\n",
        "    init='random', # pca\n",
        "    random_state=101,\n",
        "    method='barnes_hut',\n",
        "    n_iter=200,\n",
        "    verbose=2,\n",
        "    angle=0.5\n",
        ").fit_transform(Tf_idf.toarray())\n",
        "\n",
        "\n"
      ]
    },
    {
      "cell_type": "code",
      "execution_count": null,
      "metadata": {
        "_cell_guid": "00f60f8f-43fd-a248-edb4-48cd3d64a580",
        "id": "9KsSzeqrnKvl",
        "outputId": "d0a2c10d-58ab-47d2-e7c7-dc40bfa63c99"
      },
      "outputs": [
        {
          "data": {
            "application/vnd.plotly.v1+json": {
              "data": [
                {
                  "marker": {
                    "color": [
                      "I try and avoid this sort of conflict",
                      "Had a friend open up to me about his mental addiction to weed and how it was taking over his life and making him depressed",
                      "I saved a girl from suicide once. She was going to swallow a bunch of pills and I talked her out of it in a very calm, loving way.",
                      "i cant think of one really...i think i may have indirectly",
                      "Only really one friend who doesn't fit into the any of the above categories. Her therapist calls it spiraling.\" Anyway she pretty much calls me any time she is frustrated by something with  her boyfriend to ask me if it's logical or not. Before they would just fight and he would call her crazy. Now she asks me if it's ok he didn't say \"please\" when he said  \"hand me the remote.\"",
                      "a couple of years ago my friends was going to switch school because of low self esteem too. I helped him overcome that shit too",
                      "Roommate when he was going through death and loss of a gf. Did anything to get him out of his bedroom.",
                      "i've had a couple of friends (you could say more than friends) with quite severe depression/ emotional problems. i helped for a while but eventually both relationships started to suffer as a result of both our personal problems",
                      "Listened to someone talk about relationship troubles. Offered some advice from personal experience.",
                      "I will always listen. I comforted my sister when she lost her virgity the same night she walked in on her boyfriend cutting himself, and then our parents found out she threw a house part. Simply bring supportive was my focus.",
                      "Took a week off work, packed up the car and picked up a friend who was on the verge of losing it and went camping/surfing for a week. His parents were a big part of the problem and being away from them and others and physical activity every day for a week. but more just being around helped i feel.",
                      "On the memorial anniversary of my friends father I was with him to give support and remind him that he's not alone.",
                      "Anxious girlfriend always needs my help",
                      "Never",
                      "You as a mom",
                      "ex gf was a cutter/suicidal, got her out of her own issues while slowly dying inside.",
                      "I have helped advise friends who have faced circumstances similar to mine",
                      "I've helped friends out before",
                      "A friend that is a girl and just talk to her tryin to make her feel better",
                      "expressing concern and openness to friends when they are dealing with troubles. letting them know they can fell open for dialog.",
                      "listening to girlfriend's problems",
                      "Friend was thinking about suicide, after a few days I managed to talk her down.",
                      "Having gone through depression and anxiety myself, I understand the struggles and have a few personal methods to cope when stuff hits. Having this knowledge has allowed me to help several people on the internet as well as my other friends when they have faced similar issues and talk to me about them. I understand how important listening is and offer my experiences to help them get through what they face.",
                      "Sometimes my friends bring up issues they are having with themselves, and I feel that I give them good advice and make them feel adequate and normal. I just try to be kind and helpful and honest.",
                      "never i guess people dont see me as a guy they would go to",
                      "Last year, my best friend was diagnosed with anxiety disorder and depression. She tried to commit suicide. I tried my best to be there for her the entire time throughout her recovery.",
                      "Cleaning up my friend's campsite and slightly helping him while he was living all summer as an alcoholic in the Mt. Hood woods.",
                      "i listen pretty damn well. better at that as apposed to telling my own story.",
                      "Helping a friend through dealing with his alcoholic mother.",
                      "I used to tutor homeless men at a shelter to help them obtain their GED's. They were all age 50+ and some of them were even reading at a first grade level.",
                      "I am a high school teacher so almost everyday.",
                      "Friends often come to me to talk about the issues that they're facing in life.",
                      "Summer camp, countless kids have the same issue. I tell them i how it is when you cant listen or are restless.",
                      "Haha. In eight grade, kid got rejected twice. Wanted her to sign his yearbook but he was too nervous. I told him she doesn't really care about rejecting him and she thinks no less of him. He did it.    Probably more, but that's what comes up off the top of my head.",
                      "Don't have a specific example but just letting people know you're there if they want to talk.",
                      "Some of my friends have gone through the same type of struggle I have been through. I let them know that they could talk to me about anything and that being honest with yourself even if the truth hurts is the best way to start to get back up.",
                      "Friend who had big addiction issues, ended up being completely isolated, skipped school, and had a very low self esteem. I convinced him to go see a doc together, and promised him that i would go through everything with him. He went to rehab for a few months and now he's clean. But the complete lack of support from his family, from school, changed him. I think it was too late when I helped him (he was like that for 5 months) and he'll never be the same as before.",
                      "I've always been a good listener for people and I think a lot of people just want to be heard and not necessarily fixed. They just need to express themselves to relief their thoughts to others so they're not trapped so much within the confines of their own head.  I've always lent an ear for someone to speak to.",
                      "One of my best friends was diagnosed with cancer and I did as much as I could for him during that time. I visited him almost every day when he was in treatment just so he didn't have to be alone or anything. When he came back to school I helped him get caught up with school work too.",
                      "I don't think I'm qualified to be a serious resource for someone else.",
                      "Many times for my one friend who tried hard drugs (cocaine) and was dealing with depression because of girls",
                      "A lot for my friends. When they have had girl problems, or have just been down in the dumps about life. I always try to look on the positive side of life, and I try to reflect that on my friends' lives as well.",
                      "I'm the theripist of my friends, they always come to me",
                      "Describe?    Nah",
                      "My brother went through the same struggles I did, after i found help I was able to set him on the path to healing.",
                      "Friend got dumped by girl he had been in a relationship in for 2 years. I stayed by his side until he stopped feeling bad about it. I was there for him.",
                      "I open myself to any friend in need of emotional support.",
                      "GF and I help her through a lot of shit because I myself have been through a lot of shit.",
                      "I had a friend that would go off about girls and get super depressed. He told me he was going to kill himself one night and I drove 1n hour and a half to go look for him. By then the cops had already taken him to the hospital but me and a friend went and hung out with him. Also been there to help try and talk him down. Another person I hadnt been friends with for years cause of some stuff called me out of the blue on thankgiving last year. I called back and got a hospital number so I knew something was up. Ended up being a kid who I was friends with years before but was a huge douche to me. He was in the psych ward for trying to kill himself. I got a hold of him and talked to him for a while. Whenever he would call I would answer and be there even though I still had the shit from years earlier on my mind. There are people that I might not want to be around but if it's a situation like this I'll be there for people. My goal or purpose in life that's sustained my survival is to help make other peoples lives a little bit better. Make people laugh when they're sad, help people out when nobody else will. Basically treat other humans even strangers with the respect and kindness of a friend. That's all people need sometime. Let people talk through their shit with me and offer helpful advice if I can. I'm still swimming in my own shit but that's enough to keep me going, keep that little light at the end of the tunnel switched on. Idk how long that will last but I'll be here till it flickers out.",
                      "Sometimes I'll calm my friends down after bad stuff happens.",
                      "I once acted as a resource for someone who was struggling in school, and I helped them with their schoolwork.",
                      "My friend was going through a period of intense depression and i made sure that i was always there for him.",
                      "I have talked though some major blows in my girlfriends life. She has had some tough times, and I helped her with them.",
                      "Talking to a friend over a break up.",
                      "I care about other people more than myself so I listen and help them through tough times",
                      "Over the internet a LOT of people write to me to talk about their problems. Its often girl related, I dont know, I guess it can be nice to rant to someone you dont know irl/someone who can look at the situation a little bit more objective? I think a lot of guys also feel that it can be hard to talk to girl friends irl about their innermost feelings sometimes, thats the feeling I get at least. My friend jokingly refers to me as an Agony Aunt\"",
                      "Friends sometimes come up to me and ask for advice,  I try and give it the best I possibly can",
                      "My friend dealt with anxiety and this desire for everything in her life to be perfect, she describes it as caring what happens to much, but either way I simply talked to her and when she would try and change the subject I would have to drag her back in due the fact that she didn't want to talk about it, but in reality she wouldn't get better unless i pulled her back into it and helped her through it. But how i helped was by basically talking to her, and giving her the advice she needed to hear, not the one she wanted to such as oh you'll be ok  this will all blow over\" what i said was more along the lines of being so blunt that many may find it rude but for her and i it was essential to making any progress.\"\"y friend dealt with anxiety and this desire for everything in her life to be perfect  she describes it as caring what happens to much  but either way I simply talked to her and when \"",
                      "Simply being there as a friend for somebody who's struggling.",
                      "I've had some friends come to me saying people or acquaintances they've known who have killed themselves try and find comfort with me because my best friend killed himself my junior year of high school so they've come to me hoping to find some answers or peace in the turmoil.",
                      "People calling, talk some sense into them, maybe facebook chat..",
                      "Having self harmed in the past,  I shared my experience with a friend in hopes of swaying her from those actions.",
                      "Have worked through problems with friends",
                      "When my friend needed help when she was going through some tough stuff. I knew that she needed it but she wouldn't admit it. So I brought it up and initiated it and we talked about it and it really helped her.",
                      "My sister has some pretty severe issues  with her mental health. I try to be there for her when she needs it and I'd like to think its helped her.",
                      "Helped friends through stuff.",
                      "I helped encourage a friend to go to therapy, and often listened to their problem to let them know there was someone there for them.",
                      "I haven't really met anyone dealing with attention issues. So I haven't had a chance to help unfortunately.",
                      "there are too many to remember specifically, but being as helpful and rational as possible (as well as just listening) with people that need it is a fairly common occurrence",
                      "one of my friends was feeling down, so he came over and talked it out while I listened and gave him some input.",
                      "never.",
                      "I have tried but am absolutely horrable at it and am way too blunt.",
                      "Ex girlfriend had depression and anxiety. I used to hold her and listen as she told me what was going on",
                      "Always. I don't judge people to much, and can listen well most of the time. So naturally people come to me with their problems.",
                      "My grandmother went through some severe depression shortly after I had some difficulties. Using my personal experience to relate with her and share what I used to get better was helpful to comfort her.",
                      "Now that I've been through it, although i'm not even where I'd like to be, I'm extremely open about sharing my experience with others and helping friends going through similar situations. And PLEASE if you have any other questions about my situation don't hesitate to email me. I'm an open book and excited to see how many people you're going to help.",
                      "when my best friends mom past away from od'ing when he was in grade 5",
                      "As a camp counselor I provide stability in kids lives who may have troubled home situations.",
                      "My now girlfriend used to have serious addiction troubles before we started dating and felt as though her addiction defined her as a person. She thought that all people saw when they looked at her was the addiction. I spent many nights with her talking and letting her vent. I was one of the only people supporting her and she felt as though I could help because I had been in her spot.",
                      "The one person I ever talked to it was because we were both going through the same thing. Us talking together helped, it was important to realize you aren't alone"
                    ],
                    "colorbar": {
                      "title": "TExt"
                    },
                    "colorscale": "Portland",
                    "line": {
                      "color": "rgb(255, 255, 255)"
                    },
                    "opacity": 0.75,
                    "sizemode": "diameter"
                  },
                  "mode": "markers",
                  "type": "scatter3d",
                  "x": [
                    -247.30568770815492,
                    5.951086851426091,
                    -17.150635746869956,
                    2.312890322632116,
                    24.2202396302598,
                    16.499316823705204,
                    -382.20907183846924,
                    17.36838902516539,
                    -88.98004953431763,
                    14.789152364793784,
                    66.44976497764915,
                    53.770037758920424,
                    1.2766439848466808,
                    32.3861225099497,
                    42.94241007347521,
                    39.531226490738185,
                    -10.694151544414133,
                    29.818452926956216,
                    9.937675423440375,
                    24.293176982204834,
                    -8.12023025856484,
                    62.02303755651888,
                    19.64219868575779,
                    0.630676305938785,
                    -0.2078108011092305,
                    -12.440147544416215,
                    -17.39969781256245,
                    -14.33940637951572,
                    -34.69742962962907,
                    43.14169385985329,
                    25.006971935971187,
                    -7.827919952069538,
                    -45.54233550495997,
                    -5.255661029066878,
                    -29.249928645481262,
                    6.354227635971599,
                    -3.4696156807879244,
                    20.295759439279767,
                    14.194413155407997,
                    -12.868202867039544,
                    -26.179094901524575,
                    9.006390570288424,
                    8.21503642958112,
                    24.552957174109494,
                    -9.384841663431875,
                    -44.16024604555973,
                    -50.07528718732105,
                    30.967703023227866,
                    -4.152245963491364,
                    -1.2916700530662442,
                    -9.74988159703009,
                    308.27740680466553,
                    -9.980542220054838,
                    10.79754195535677,
                    -26.717047115421128,
                    -15.929721046812467,
                    -6.8800013238895,
                    24.68915909913475,
                    0.6483715453330373,
                    -3.2238931130619624,
                    33.831748250420546,
                    -36.30089433007194,
                    17.723123489733737,
                    16.421902557582943,
                    37.953602851842454,
                    -35.74706366493459,
                    2.96111904471398,
                    7.529213563514381,
                    -53.41668100465708,
                    10.672455070201629,
                    202.8760628700678,
                    -28.956439018417758,
                    3.904408676149015,
                    6.203359529349146,
                    24.563728316778146,
                    8.393752770187106,
                    -22.60225189311522,
                    -41.349229909339655,
                    39.019605794115044,
                    -25.2529868221359
                  ],
                  "y": [
                    -198.9607135500992,
                    16.016992588456997,
                    7.062432344081803,
                    36.77342693550193,
                    -16.544414577307364,
                    19.165249653481162,
                    46.722475649866574,
                    -13.948095791411863,
                    32.37533384990172,
                    39.025849596058166,
                    -20.378343365758976,
                    -30.605187093449295,
                    -18.762439993624525,
                    -57.34146965915502,
                    7.0611257170704755,
                    -10.878458250456289,
                    -26.616145092087837,
                    17.336728457236354,
                    -3.9413206912869603,
                    -21.07891272564805,
                    -44.48558015308939,
                    52.40870689052342,
                    20.880584387050874,
                    8.779383981497318,
                    -6.7990765380107225,
                    20.78780720479633,
                    26.160617599147514,
                    -11.54755871102877,
                    -0.6843213033511661,
                    15.029929184064185,
                    -31.441329324966937,
                    -35.35077572109942,
                    -10.929488052864166,
                    30.844832082046693,
                    -24.890007887029544,
                    -18.311876186414352,
                    36.92616778500104,
                    -35.1119124119629,
                    30.129728387656506,
                    -38.498019669085416,
                    19.95786623650819,
                    -33.49482712708237,
                    -41.95111320551866,
                    2.8426601768147703,
                    -10.585661116083125,
                    5.114863666310401,
                    13.495008494180826,
                    6.331166294597885,
                    6.621100545840441,
                    -87.04669083666705,
                    5.903042668023112,
                    31.634391908132205,
                    5.65566453106946,
                    15.410988182407413,
                    -21.00156994115226,
                    50.56095974546786,
                    -7.348246984319008,
                    7.363177606382599,
                    -20.072164240122746,
                    40.69643761080117,
                    41.589833848864416,
                    23.605977457673138,
                    -48.04308244955481,
                    4.436315503303049,
                    -7.753203617197804,
                    16.679442825523846,
                    -28.298656409890167,
                    6.6175579991040525,
                    41.00962677328341,
                    26.487680162760906,
                    168.54772262179594,
                    -1.3273613666474922,
                    13.075487456876118,
                    -52.282518132427825,
                    -12.424489594091263,
                    -9.625929343184472,
                    19.63906578447205,
                    -31.299160039560746,
                    14.068127382805088,
                    -4.715400308499139
                  ],
                  "z": [
                    -235.301799757236,
                    4.2148553558648905,
                    -28.388895061817585,
                    42.56328646689124,
                    -35.32411198221393,
                    36.457903466215335,
                    -379.69801187399537,
                    -16.40057800388833,
                    -30.56698339163556,
                    -6.052980124455338,
                    29.620446678329102,
                    10.486534460048064,
                    -6.291288436274823,
                    4.686330614589932,
                    -29.446875777599466,
                    -13.332649238498712,
                    11.792727990466632,
                    51.68362479731545,
                    4.533871671383623,
                    2.536834759701882,
                    9.605871088814174,
                    118.54861712169541,
                    -10.538254350504939,
                    -44.39231871678393,
                    -18.787356855633675,
                    28.883732819976938,
                    -24.617868468093214,
                    -0.33020907135589234,
                    -8.813045213672536,
                    -10.3401165150859,
                    -15.403279904262329,
                    -9.33925221899122,
                    15.809498323375099,
                    -1.851065832642754,
                    13.29428796971099,
                    15.40964071857604,
                    18.311031565555968,
                    25.474128149225677,
                    17.2859249257082,
                    31.279414745717347,
                    15.673168461525691,
                    3.064997471211417,
                    -12.597345340088363,
                    -15.704270449303506,
                    24.685312443241173,
                    -25.467116432812016,
                    2.543060671253895,
                    27.941605462185453,
                    41.12116945218272,
                    -56.43784337596438,
                    -7.320459604440667,
                    384.5061622518718,
                    12.192148543595984,
                    -69.31555152050154,
                    -13.23730480331384,
                    -6.4938040706115965,
                    -35.44178355699079,
                    3.9233705049786916,
                    -45.9254690065997,
                    -22.146998335873665,
                    -11.221954307815002,
                    -15.963755090699348,
                    6.665621162622774,
                    -33.2966444559916,
                    7.866936751076605,
                    34.6686548199271,
                    32.535826138323934,
                    22.339959843890185,
                    -66.94185310046629,
                    -32.400170023471766,
                    205.34027111869375,
                    9.512358058869665,
                    -18.50744639710956,
                    23.483361263672734,
                    23.549486782950506,
                    38.50511402101535,
                    -3.3391057353447935,
                    -30.228235671220503,
                    10.361458859545268,
                    31.892373094818705
                  ]
                }
              ],
              "layout": {
                "height": 800,
                "title": "test",
                "width": 800
              }
            },
            "text/html": [
              "<div id=\"e1385fc7-01f2-4ff0-b813-40aa73c6ccf3\" style=\"height: 800px; width: 800px;\" class=\"plotly-graph-div\"></div><script type=\"text/javascript\">require([\"plotly\"], function(Plotly) { window.PLOTLYENV=window.PLOTLYENV || {};window.PLOTLYENV.BASE_URL=\"https://plot.ly\";Plotly.newPlot(\"e1385fc7-01f2-4ff0-b813-40aa73c6ccf3\", [{\"type\": \"scatter3d\", \"x\": [-247.30568770815492, 5.951086851426091, -17.150635746869956, 2.312890322632116, 24.2202396302598, 16.499316823705204, -382.20907183846924, 17.36838902516539, -88.98004953431763, 14.789152364793784, 66.44976497764915, 53.770037758920424, 1.2766439848466808, 32.3861225099497, 42.94241007347521, 39.531226490738185, -10.694151544414133, 29.818452926956216, 9.937675423440375, 24.293176982204834, -8.12023025856484, 62.02303755651888, 19.64219868575779, 0.630676305938785, -0.2078108011092305, -12.440147544416215, -17.39969781256245, -14.33940637951572, -34.69742962962907, 43.14169385985329, 25.006971935971187, -7.827919952069538, -45.54233550495997, -5.255661029066878, -29.249928645481262, 6.354227635971599, -3.4696156807879244, 20.295759439279767, 14.194413155407997, -12.868202867039544, -26.179094901524575, 9.006390570288424, 8.21503642958112, 24.552957174109494, -9.384841663431875, -44.16024604555973, -50.07528718732105, 30.967703023227866, -4.152245963491364, -1.2916700530662442, -9.74988159703009, 308.27740680466553, -9.980542220054838, 10.79754195535677, -26.717047115421128, -15.929721046812467, -6.8800013238895, 24.68915909913475, 0.6483715453330373, -3.2238931130619624, 33.831748250420546, -36.30089433007194, 17.723123489733737, 16.421902557582943, 37.953602851842454, -35.74706366493459, 2.96111904471398, 7.529213563514381, -53.41668100465708, 10.672455070201629, 202.8760628700678, -28.956439018417758, 3.904408676149015, 6.203359529349146, 24.563728316778146, 8.393752770187106, -22.60225189311522, -41.349229909339655, 39.019605794115044, -25.2529868221359], \"y\": [-198.9607135500992, 16.016992588456997, 7.062432344081803, 36.77342693550193, -16.544414577307364, 19.165249653481162, 46.722475649866574, -13.948095791411863, 32.37533384990172, 39.025849596058166, -20.378343365758976, -30.605187093449295, -18.762439993624525, -57.34146965915502, 7.0611257170704755, -10.878458250456289, -26.616145092087837, 17.336728457236354, -3.9413206912869603, -21.07891272564805, -44.48558015308939, 52.40870689052342, 20.880584387050874, 8.779383981497318, -6.7990765380107225, 20.78780720479633, 26.160617599147514, -11.54755871102877, -0.6843213033511661, 15.029929184064185, -31.441329324966937, -35.35077572109942, -10.929488052864166, 30.844832082046693, -24.890007887029544, -18.311876186414352, 36.92616778500104, -35.1119124119629, 30.129728387656506, -38.498019669085416, 19.95786623650819, -33.49482712708237, -41.95111320551866, 2.8426601768147703, -10.585661116083125, 5.114863666310401, 13.495008494180826, 6.331166294597885, 6.621100545840441, -87.04669083666705, 5.903042668023112, 31.634391908132205, 5.65566453106946, 15.410988182407413, -21.00156994115226, 50.56095974546786, -7.348246984319008, 7.363177606382599, -20.072164240122746, 40.69643761080117, 41.589833848864416, 23.605977457673138, -48.04308244955481, 4.436315503303049, -7.753203617197804, 16.679442825523846, -28.298656409890167, 6.6175579991040525, 41.00962677328341, 26.487680162760906, 168.54772262179594, -1.3273613666474922, 13.075487456876118, -52.282518132427825, -12.424489594091263, -9.625929343184472, 19.63906578447205, -31.299160039560746, 14.068127382805088, -4.715400308499139], \"z\": [-235.301799757236, 4.2148553558648905, -28.388895061817585, 42.56328646689124, -35.32411198221393, 36.457903466215335, -379.69801187399537, -16.40057800388833, -30.56698339163556, -6.052980124455338, 29.620446678329102, 10.486534460048064, -6.291288436274823, 4.686330614589932, -29.446875777599466, -13.332649238498712, 11.792727990466632, 51.68362479731545, 4.533871671383623, 2.536834759701882, 9.605871088814174, 118.54861712169541, -10.538254350504939, -44.39231871678393, -18.787356855633675, 28.883732819976938, -24.617868468093214, -0.33020907135589234, -8.813045213672536, -10.3401165150859, -15.403279904262329, -9.33925221899122, 15.809498323375099, -1.851065832642754, 13.29428796971099, 15.40964071857604, 18.311031565555968, 25.474128149225677, 17.2859249257082, 31.279414745717347, 15.673168461525691, 3.064997471211417, -12.597345340088363, -15.704270449303506, 24.685312443241173, -25.467116432812016, 2.543060671253895, 27.941605462185453, 41.12116945218272, -56.43784337596438, -7.320459604440667, 384.5061622518718, 12.192148543595984, -69.31555152050154, -13.23730480331384, -6.4938040706115965, -35.44178355699079, 3.9233705049786916, -45.9254690065997, -22.146998335873665, -11.221954307815002, -15.963755090699348, 6.665621162622774, -33.2966444559916, 7.866936751076605, 34.6686548199271, 32.535826138323934, 22.339959843890185, -66.94185310046629, -32.400170023471766, 205.34027111869375, 9.512358058869665, -18.50744639710956, 23.483361263672734, 23.549486782950506, 38.50511402101535, -3.3391057353447935, -30.228235671220503, 10.361458859545268, 31.892373094818705], \"mode\": \"markers\", \"marker\": {\"sizemode\": \"diameter\", \"color\": [\"I try and avoid this sort of conflict\", \"Had a friend open up to me about his mental addiction to weed and how it was taking over his life and making him depressed\", \"I saved a girl from suicide once. She was going to swallow a bunch of pills and I talked her out of it in a very calm, loving way.\", \"i cant think of one really...i think i may have indirectly\", \"Only really one friend who doesn't fit into the any of the above categories. Her therapist calls it spiraling.\\\" Anyway she pretty much calls me any time she is frustrated by something with  her boyfriend to ask me if it's logical or not. Before they would just fight and he would call her crazy. Now she asks me if it's ok he didn't say \\\"please\\\" when he said  \\\"hand me the remote.\\\"\", \"a couple of years ago my friends was going to switch school because of low self esteem too. I helped him overcome that shit too\", \"Roommate when he was going through death and loss of a gf. Did anything to get him out of his bedroom.\", \"i've had a couple of friends (you could say more than friends) with quite severe depression/ emotional problems. i helped for a while but eventually both relationships started to suffer as a result of both our personal problems\", \"Listened to someone talk about relationship troubles. Offered some advice from personal experience.\", \"I will always listen. I comforted my sister when she lost her virgity the same night she walked in on her boyfriend cutting himself, and then our parents found out she threw a house part. Simply bring supportive was my focus.\", \"Took a week off work, packed up the car and picked up a friend who was on the verge of losing it and went camping/surfing for a week. His parents were a big part of the problem and being away from them and others and physical activity every day for a week. but more just being around helped i feel.\", \"On the memorial anniversary of my friends father I was with him to give support and remind him that he's not alone.\", \"Anxious girlfriend always needs my help\", \"Never\", \"You as a mom\", \"ex gf was a cutter/suicidal, got her out of her own issues while slowly dying inside.\", \"I have helped advise friends who have faced circumstances similar to mine\", \"I've helped friends out before\", \"A friend that is a girl and just talk to her tryin to make her feel better\", \"expressing concern and openness to friends when they are dealing with troubles. letting them know they can fell open for dialog.\", \"listening to girlfriend's problems\", \"Friend was thinking about suicide, after a few days I managed to talk her down.\", \"Having gone through depression and anxiety myself, I understand the struggles and have a few personal methods to cope when stuff hits. Having this knowledge has allowed me to help several people on the internet as well as my other friends when they have faced similar issues and talk to me about them. I understand how important listening is and offer my experiences to help them get through what they face.\", \"Sometimes my friends bring up issues they are having with themselves, and I feel that I give them good advice and make them feel adequate and normal. I just try to be kind and helpful and honest.\", \"never i guess people dont see me as a guy they would go to\", \"Last year, my best friend was diagnosed with anxiety disorder and depression. She tried to commit suicide. I tried my best to be there for her the entire time throughout her recovery.\", \"Cleaning up my friend's campsite and slightly helping him while he was living all summer as an alcoholic in the Mt. Hood woods.\", \"i listen pretty damn well. better at that as apposed to telling my own story.\", \"Helping a friend through dealing with his alcoholic mother.\", \"I used to tutor homeless men at a shelter to help them obtain their GED's. They were all age 50+ and some of them were even reading at a first grade level.\", \"I am a high school teacher so almost everyday.\", \"Friends often come to me to talk about the issues that they're facing in life.\", \"Summer camp, countless kids have the same issue. I tell them i how it is when you cant listen or are restless.\", \"Haha. In eight grade, kid got rejected twice. Wanted her to sign his yearbook but he was too nervous. I told him she doesn't really care about rejecting him and she thinks no less of him. He did it.    Probably more, but that's what comes up off the top of my head.\", \"Don't have a specific example but just letting people know you're there if they want to talk.\", \"Some of my friends have gone through the same type of struggle I have been through. I let them know that they could talk to me about anything and that being honest with yourself even if the truth hurts is the best way to start to get back up.\", \"Friend who had big addiction issues, ended up being completely isolated, skipped school, and had a very low self esteem. I convinced him to go see a doc together, and promised him that i would go through everything with him. He went to rehab for a few months and now he's clean. But the complete lack of support from his family, from school, changed him. I think it was too late when I helped him (he was like that for 5 months) and he'll never be the same as before.\", \"I've always been a good listener for people and I think a lot of people just want to be heard and not necessarily fixed. They just need to express themselves to relief their thoughts to others so they're not trapped so much within the confines of their own head.  I've always lent an ear for someone to speak to.\", \"One of my best friends was diagnosed with cancer and I did as much as I could for him during that time. I visited him almost every day when he was in treatment just so he didn't have to be alone or anything. When he came back to school I helped him get caught up with school work too.\", \"I don't think I'm qualified to be a serious resource for someone else.\", \"Many times for my one friend who tried hard drugs (cocaine) and was dealing with depression because of girls\", \"A lot for my friends. When they have had girl problems, or have just been down in the dumps about life. I always try to look on the positive side of life, and I try to reflect that on my friends' lives as well.\", \"I'm the theripist of my friends, they always come to me\", \"Describe?    Nah\", \"My brother went through the same struggles I did, after i found help I was able to set him on the path to healing.\", \"Friend got dumped by girl he had been in a relationship in for 2 years. I stayed by his side until he stopped feeling bad about it. I was there for him.\", \"I open myself to any friend in need of emotional support.\", \"GF and I help her through a lot of shit because I myself have been through a lot of shit.\", \"I had a friend that would go off about girls and get super depressed. He told me he was going to kill himself one night and I drove 1n hour and a half to go look for him. By then the cops had already taken him to the hospital but me and a friend went and hung out with him. Also been there to help try and talk him down. Another person I hadnt been friends with for years cause of some stuff called me out of the blue on thankgiving last year. I called back and got a hospital number so I knew something was up. Ended up being a kid who I was friends with years before but was a huge douche to me. He was in the psych ward for trying to kill himself. I got a hold of him and talked to him for a while. Whenever he would call I would answer and be there even though I still had the shit from years earlier on my mind. There are people that I might not want to be around but if it's a situation like this I'll be there for people. My goal or purpose in life that's sustained my survival is to help make other peoples lives a little bit better. Make people laugh when they're sad, help people out when nobody else will. Basically treat other humans even strangers with the respect and kindness of a friend. That's all people need sometime. Let people talk through their shit with me and offer helpful advice if I can. I'm still swimming in my own shit but that's enough to keep me going, keep that little light at the end of the tunnel switched on. Idk how long that will last but I'll be here till it flickers out.\", \"Sometimes I'll calm my friends down after bad stuff happens.\", \"I once acted as a resource for someone who was struggling in school, and I helped them with their schoolwork.\", \"My friend was going through a period of intense depression and i made sure that i was always there for him.\", \"I have talked though some major blows in my girlfriends life. She has had some tough times, and I helped her with them.\", \"Talking to a friend over a break up.\", \"I care about other people more than myself so I listen and help them through tough times\", \"Over the internet a LOT of people write to me to talk about their problems. Its often girl related, I dont know, I guess it can be nice to rant to someone you dont know irl/someone who can look at the situation a little bit more objective? I think a lot of guys also feel that it can be hard to talk to girl friends irl about their innermost feelings sometimes, thats the feeling I get at least. My friend jokingly refers to me as an Agony Aunt\\\"\", \"Friends sometimes come up to me and ask for advice,  I try and give it the best I possibly can\", \"My friend dealt with anxiety and this desire for everything in her life to be perfect, she describes it as caring what happens to much, but either way I simply talked to her and when she would try and change the subject I would have to drag her back in due the fact that she didn't want to talk about it, but in reality she wouldn't get better unless i pulled her back into it and helped her through it. But how i helped was by basically talking to her, and giving her the advice she needed to hear, not the one she wanted to such as oh you'll be ok  this will all blow over\\\" what i said was more along the lines of being so blunt that many may find it rude but for her and i it was essential to making any progress.\\\"\\\"y friend dealt with anxiety and this desire for everything in her life to be perfect  she describes it as caring what happens to much  but either way I simply talked to her and when \\\"\", \"Simply being there as a friend for somebody who's struggling.\", \"I've had some friends come to me saying people or acquaintances they've known who have killed themselves try and find comfort with me because my best friend killed himself my junior year of high school so they've come to me hoping to find some answers or peace in the turmoil.\", \"People calling, talk some sense into them, maybe facebook chat..\", \"Having self harmed in the past,  I shared my experience with a friend in hopes of swaying her from those actions.\", \"Have worked through problems with friends\", \"When my friend needed help when she was going through some tough stuff. I knew that she needed it but she wouldn't admit it. So I brought it up and initiated it and we talked about it and it really helped her.\", \"My sister has some pretty severe issues  with her mental health. I try to be there for her when she needs it and I'd like to think its helped her.\", \"Helped friends through stuff.\", \"I helped encourage a friend to go to therapy, and often listened to their problem to let them know there was someone there for them.\", \"I haven't really met anyone dealing with attention issues. So I haven't had a chance to help unfortunately.\", \"there are too many to remember specifically, but being as helpful and rational as possible (as well as just listening) with people that need it is a fairly common occurrence\", \"one of my friends was feeling down, so he came over and talked it out while I listened and gave him some input.\", \"never.\", \"I have tried but am absolutely horrable at it and am way too blunt.\", \"Ex girlfriend had depression and anxiety. I used to hold her and listen as she told me what was going on\", \"Always. I don't judge people to much, and can listen well most of the time. So naturally people come to me with their problems.\", \"My grandmother went through some severe depression shortly after I had some difficulties. Using my personal experience to relate with her and share what I used to get better was helpful to comfort her.\", \"Now that I've been through it, although i'm not even where I'd like to be, I'm extremely open about sharing my experience with others and helping friends going through similar situations. And PLEASE if you have any other questions about my situation don't hesitate to email me. I'm an open book and excited to see how many people you're going to help.\", \"when my best friends mom past away from od'ing when he was in grade 5\", \"As a camp counselor I provide stability in kids lives who may have troubled home situations.\", \"My now girlfriend used to have serious addiction troubles before we started dating and felt as though her addiction defined her as a person. She thought that all people saw when they looked at her was the addiction. I spent many nights with her talking and letting her vent. I was one of the only people supporting her and she felt as though I could help because I had been in her spot.\", \"The one person I ever talked to it was because we were both going through the same thing. Us talking together helped, it was important to realize you aren't alone\"], \"colorscale\": \"Portland\", \"colorbar\": {\"title\": \"TExt\"}, \"line\": {\"color\": \"rgb(255, 255, 255)\"}, \"opacity\": 0.75}}], {\"height\": 800, \"width\": 800, \"title\": \"test\"}, {\"showLink\": true, \"linkText\": \"Export to plot.ly\"})});</script>"
            ],
            "text/vnd.plotly.v1+html": [
              "<div id=\"e1385fc7-01f2-4ff0-b813-40aa73c6ccf3\" style=\"height: 800px; width: 800px;\" class=\"plotly-graph-div\"></div><script type=\"text/javascript\">require([\"plotly\"], function(Plotly) { window.PLOTLYENV=window.PLOTLYENV || {};window.PLOTLYENV.BASE_URL=\"https://plot.ly\";Plotly.newPlot(\"e1385fc7-01f2-4ff0-b813-40aa73c6ccf3\", [{\"type\": \"scatter3d\", \"x\": [-247.30568770815492, 5.951086851426091, -17.150635746869956, 2.312890322632116, 24.2202396302598, 16.499316823705204, -382.20907183846924, 17.36838902516539, -88.98004953431763, 14.789152364793784, 66.44976497764915, 53.770037758920424, 1.2766439848466808, 32.3861225099497, 42.94241007347521, 39.531226490738185, -10.694151544414133, 29.818452926956216, 9.937675423440375, 24.293176982204834, -8.12023025856484, 62.02303755651888, 19.64219868575779, 0.630676305938785, -0.2078108011092305, -12.440147544416215, -17.39969781256245, -14.33940637951572, -34.69742962962907, 43.14169385985329, 25.006971935971187, -7.827919952069538, -45.54233550495997, -5.255661029066878, -29.249928645481262, 6.354227635971599, -3.4696156807879244, 20.295759439279767, 14.194413155407997, -12.868202867039544, -26.179094901524575, 9.006390570288424, 8.21503642958112, 24.552957174109494, -9.384841663431875, -44.16024604555973, -50.07528718732105, 30.967703023227866, -4.152245963491364, -1.2916700530662442, -9.74988159703009, 308.27740680466553, -9.980542220054838, 10.79754195535677, -26.717047115421128, -15.929721046812467, -6.8800013238895, 24.68915909913475, 0.6483715453330373, -3.2238931130619624, 33.831748250420546, -36.30089433007194, 17.723123489733737, 16.421902557582943, 37.953602851842454, -35.74706366493459, 2.96111904471398, 7.529213563514381, -53.41668100465708, 10.672455070201629, 202.8760628700678, -28.956439018417758, 3.904408676149015, 6.203359529349146, 24.563728316778146, 8.393752770187106, -22.60225189311522, -41.349229909339655, 39.019605794115044, -25.2529868221359], \"y\": [-198.9607135500992, 16.016992588456997, 7.062432344081803, 36.77342693550193, -16.544414577307364, 19.165249653481162, 46.722475649866574, -13.948095791411863, 32.37533384990172, 39.025849596058166, -20.378343365758976, -30.605187093449295, -18.762439993624525, -57.34146965915502, 7.0611257170704755, -10.878458250456289, -26.616145092087837, 17.336728457236354, -3.9413206912869603, -21.07891272564805, -44.48558015308939, 52.40870689052342, 20.880584387050874, 8.779383981497318, -6.7990765380107225, 20.78780720479633, 26.160617599147514, -11.54755871102877, -0.6843213033511661, 15.029929184064185, -31.441329324966937, -35.35077572109942, -10.929488052864166, 30.844832082046693, -24.890007887029544, -18.311876186414352, 36.92616778500104, -35.1119124119629, 30.129728387656506, -38.498019669085416, 19.95786623650819, -33.49482712708237, -41.95111320551866, 2.8426601768147703, -10.585661116083125, 5.114863666310401, 13.495008494180826, 6.331166294597885, 6.621100545840441, -87.04669083666705, 5.903042668023112, 31.634391908132205, 5.65566453106946, 15.410988182407413, -21.00156994115226, 50.56095974546786, -7.348246984319008, 7.363177606382599, -20.072164240122746, 40.69643761080117, 41.589833848864416, 23.605977457673138, -48.04308244955481, 4.436315503303049, -7.753203617197804, 16.679442825523846, -28.298656409890167, 6.6175579991040525, 41.00962677328341, 26.487680162760906, 168.54772262179594, -1.3273613666474922, 13.075487456876118, -52.282518132427825, -12.424489594091263, -9.625929343184472, 19.63906578447205, -31.299160039560746, 14.068127382805088, -4.715400308499139], \"z\": [-235.301799757236, 4.2148553558648905, -28.388895061817585, 42.56328646689124, -35.32411198221393, 36.457903466215335, -379.69801187399537, -16.40057800388833, -30.56698339163556, -6.052980124455338, 29.620446678329102, 10.486534460048064, -6.291288436274823, 4.686330614589932, -29.446875777599466, -13.332649238498712, 11.792727990466632, 51.68362479731545, 4.533871671383623, 2.536834759701882, 9.605871088814174, 118.54861712169541, -10.538254350504939, -44.39231871678393, -18.787356855633675, 28.883732819976938, -24.617868468093214, -0.33020907135589234, -8.813045213672536, -10.3401165150859, -15.403279904262329, -9.33925221899122, 15.809498323375099, -1.851065832642754, 13.29428796971099, 15.40964071857604, 18.311031565555968, 25.474128149225677, 17.2859249257082, 31.279414745717347, 15.673168461525691, 3.064997471211417, -12.597345340088363, -15.704270449303506, 24.685312443241173, -25.467116432812016, 2.543060671253895, 27.941605462185453, 41.12116945218272, -56.43784337596438, -7.320459604440667, 384.5061622518718, 12.192148543595984, -69.31555152050154, -13.23730480331384, -6.4938040706115965, -35.44178355699079, 3.9233705049786916, -45.9254690065997, -22.146998335873665, -11.221954307815002, -15.963755090699348, 6.665621162622774, -33.2966444559916, 7.866936751076605, 34.6686548199271, 32.535826138323934, 22.339959843890185, -66.94185310046629, -32.400170023471766, 205.34027111869375, 9.512358058869665, -18.50744639710956, 23.483361263672734, 23.549486782950506, 38.50511402101535, -3.3391057353447935, -30.228235671220503, 10.361458859545268, 31.892373094818705], \"mode\": \"markers\", \"marker\": {\"sizemode\": \"diameter\", \"color\": [\"I try and avoid this sort of conflict\", \"Had a friend open up to me about his mental addiction to weed and how it was taking over his life and making him depressed\", \"I saved a girl from suicide once. She was going to swallow a bunch of pills and I talked her out of it in a very calm, loving way.\", \"i cant think of one really...i think i may have indirectly\", \"Only really one friend who doesn't fit into the any of the above categories. Her therapist calls it spiraling.\\\" Anyway she pretty much calls me any time she is frustrated by something with  her boyfriend to ask me if it's logical or not. Before they would just fight and he would call her crazy. Now she asks me if it's ok he didn't say \\\"please\\\" when he said  \\\"hand me the remote.\\\"\", \"a couple of years ago my friends was going to switch school because of low self esteem too. I helped him overcome that shit too\", \"Roommate when he was going through death and loss of a gf. Did anything to get him out of his bedroom.\", \"i've had a couple of friends (you could say more than friends) with quite severe depression/ emotional problems. i helped for a while but eventually both relationships started to suffer as a result of both our personal problems\", \"Listened to someone talk about relationship troubles. Offered some advice from personal experience.\", \"I will always listen. I comforted my sister when she lost her virgity the same night she walked in on her boyfriend cutting himself, and then our parents found out she threw a house part. Simply bring supportive was my focus.\", \"Took a week off work, packed up the car and picked up a friend who was on the verge of losing it and went camping/surfing for a week. His parents were a big part of the problem and being away from them and others and physical activity every day for a week. but more just being around helped i feel.\", \"On the memorial anniversary of my friends father I was with him to give support and remind him that he's not alone.\", \"Anxious girlfriend always needs my help\", \"Never\", \"You as a mom\", \"ex gf was a cutter/suicidal, got her out of her own issues while slowly dying inside.\", \"I have helped advise friends who have faced circumstances similar to mine\", \"I've helped friends out before\", \"A friend that is a girl and just talk to her tryin to make her feel better\", \"expressing concern and openness to friends when they are dealing with troubles. letting them know they can fell open for dialog.\", \"listening to girlfriend's problems\", \"Friend was thinking about suicide, after a few days I managed to talk her down.\", \"Having gone through depression and anxiety myself, I understand the struggles and have a few personal methods to cope when stuff hits. Having this knowledge has allowed me to help several people on the internet as well as my other friends when they have faced similar issues and talk to me about them. I understand how important listening is and offer my experiences to help them get through what they face.\", \"Sometimes my friends bring up issues they are having with themselves, and I feel that I give them good advice and make them feel adequate and normal. I just try to be kind and helpful and honest.\", \"never i guess people dont see me as a guy they would go to\", \"Last year, my best friend was diagnosed with anxiety disorder and depression. She tried to commit suicide. I tried my best to be there for her the entire time throughout her recovery.\", \"Cleaning up my friend's campsite and slightly helping him while he was living all summer as an alcoholic in the Mt. Hood woods.\", \"i listen pretty damn well. better at that as apposed to telling my own story.\", \"Helping a friend through dealing with his alcoholic mother.\", \"I used to tutor homeless men at a shelter to help them obtain their GED's. They were all age 50+ and some of them were even reading at a first grade level.\", \"I am a high school teacher so almost everyday.\", \"Friends often come to me to talk about the issues that they're facing in life.\", \"Summer camp, countless kids have the same issue. I tell them i how it is when you cant listen or are restless.\", \"Haha. In eight grade, kid got rejected twice. Wanted her to sign his yearbook but he was too nervous. I told him she doesn't really care about rejecting him and she thinks no less of him. He did it.    Probably more, but that's what comes up off the top of my head.\", \"Don't have a specific example but just letting people know you're there if they want to talk.\", \"Some of my friends have gone through the same type of struggle I have been through. I let them know that they could talk to me about anything and that being honest with yourself even if the truth hurts is the best way to start to get back up.\", \"Friend who had big addiction issues, ended up being completely isolated, skipped school, and had a very low self esteem. I convinced him to go see a doc together, and promised him that i would go through everything with him. He went to rehab for a few months and now he's clean. But the complete lack of support from his family, from school, changed him. I think it was too late when I helped him (he was like that for 5 months) and he'll never be the same as before.\", \"I've always been a good listener for people and I think a lot of people just want to be heard and not necessarily fixed. They just need to express themselves to relief their thoughts to others so they're not trapped so much within the confines of their own head.  I've always lent an ear for someone to speak to.\", \"One of my best friends was diagnosed with cancer and I did as much as I could for him during that time. I visited him almost every day when he was in treatment just so he didn't have to be alone or anything. When he came back to school I helped him get caught up with school work too.\", \"I don't think I'm qualified to be a serious resource for someone else.\", \"Many times for my one friend who tried hard drugs (cocaine) and was dealing with depression because of girls\", \"A lot for my friends. When they have had girl problems, or have just been down in the dumps about life. I always try to look on the positive side of life, and I try to reflect that on my friends' lives as well.\", \"I'm the theripist of my friends, they always come to me\", \"Describe?    Nah\", \"My brother went through the same struggles I did, after i found help I was able to set him on the path to healing.\", \"Friend got dumped by girl he had been in a relationship in for 2 years. I stayed by his side until he stopped feeling bad about it. I was there for him.\", \"I open myself to any friend in need of emotional support.\", \"GF and I help her through a lot of shit because I myself have been through a lot of shit.\", \"I had a friend that would go off about girls and get super depressed. He told me he was going to kill himself one night and I drove 1n hour and a half to go look for him. By then the cops had already taken him to the hospital but me and a friend went and hung out with him. Also been there to help try and talk him down. Another person I hadnt been friends with for years cause of some stuff called me out of the blue on thankgiving last year. I called back and got a hospital number so I knew something was up. Ended up being a kid who I was friends with years before but was a huge douche to me. He was in the psych ward for trying to kill himself. I got a hold of him and talked to him for a while. Whenever he would call I would answer and be there even though I still had the shit from years earlier on my mind. There are people that I might not want to be around but if it's a situation like this I'll be there for people. My goal or purpose in life that's sustained my survival is to help make other peoples lives a little bit better. Make people laugh when they're sad, help people out when nobody else will. Basically treat other humans even strangers with the respect and kindness of a friend. That's all people need sometime. Let people talk through their shit with me and offer helpful advice if I can. I'm still swimming in my own shit but that's enough to keep me going, keep that little light at the end of the tunnel switched on. Idk how long that will last but I'll be here till it flickers out.\", \"Sometimes I'll calm my friends down after bad stuff happens.\", \"I once acted as a resource for someone who was struggling in school, and I helped them with their schoolwork.\", \"My friend was going through a period of intense depression and i made sure that i was always there for him.\", \"I have talked though some major blows in my girlfriends life. She has had some tough times, and I helped her with them.\", \"Talking to a friend over a break up.\", \"I care about other people more than myself so I listen and help them through tough times\", \"Over the internet a LOT of people write to me to talk about their problems. Its often girl related, I dont know, I guess it can be nice to rant to someone you dont know irl/someone who can look at the situation a little bit more objective? I think a lot of guys also feel that it can be hard to talk to girl friends irl about their innermost feelings sometimes, thats the feeling I get at least. My friend jokingly refers to me as an Agony Aunt\\\"\", \"Friends sometimes come up to me and ask for advice,  I try and give it the best I possibly can\", \"My friend dealt with anxiety and this desire for everything in her life to be perfect, she describes it as caring what happens to much, but either way I simply talked to her and when she would try and change the subject I would have to drag her back in due the fact that she didn't want to talk about it, but in reality she wouldn't get better unless i pulled her back into it and helped her through it. But how i helped was by basically talking to her, and giving her the advice she needed to hear, not the one she wanted to such as oh you'll be ok  this will all blow over\\\" what i said was more along the lines of being so blunt that many may find it rude but for her and i it was essential to making any progress.\\\"\\\"y friend dealt with anxiety and this desire for everything in her life to be perfect  she describes it as caring what happens to much  but either way I simply talked to her and when \\\"\", \"Simply being there as a friend for somebody who's struggling.\", \"I've had some friends come to me saying people or acquaintances they've known who have killed themselves try and find comfort with me because my best friend killed himself my junior year of high school so they've come to me hoping to find some answers or peace in the turmoil.\", \"People calling, talk some sense into them, maybe facebook chat..\", \"Having self harmed in the past,  I shared my experience with a friend in hopes of swaying her from those actions.\", \"Have worked through problems with friends\", \"When my friend needed help when she was going through some tough stuff. I knew that she needed it but she wouldn't admit it. So I brought it up and initiated it and we talked about it and it really helped her.\", \"My sister has some pretty severe issues  with her mental health. I try to be there for her when she needs it and I'd like to think its helped her.\", \"Helped friends through stuff.\", \"I helped encourage a friend to go to therapy, and often listened to their problem to let them know there was someone there for them.\", \"I haven't really met anyone dealing with attention issues. So I haven't had a chance to help unfortunately.\", \"there are too many to remember specifically, but being as helpful and rational as possible (as well as just listening) with people that need it is a fairly common occurrence\", \"one of my friends was feeling down, so he came over and talked it out while I listened and gave him some input.\", \"never.\", \"I have tried but am absolutely horrable at it and am way too blunt.\", \"Ex girlfriend had depression and anxiety. I used to hold her and listen as she told me what was going on\", \"Always. I don't judge people to much, and can listen well most of the time. So naturally people come to me with their problems.\", \"My grandmother went through some severe depression shortly after I had some difficulties. Using my personal experience to relate with her and share what I used to get better was helpful to comfort her.\", \"Now that I've been through it, although i'm not even where I'd like to be, I'm extremely open about sharing my experience with others and helping friends going through similar situations. And PLEASE if you have any other questions about my situation don't hesitate to email me. I'm an open book and excited to see how many people you're going to help.\", \"when my best friends mom past away from od'ing when he was in grade 5\", \"As a camp counselor I provide stability in kids lives who may have troubled home situations.\", \"My now girlfriend used to have serious addiction troubles before we started dating and felt as though her addiction defined her as a person. She thought that all people saw when they looked at her was the addiction. I spent many nights with her talking and letting her vent. I was one of the only people supporting her and she felt as though I could help because I had been in her spot.\", \"The one person I ever talked to it was because we were both going through the same thing. Us talking together helped, it was important to realize you aren't alone\"], \"colorscale\": \"Portland\", \"colorbar\": {\"title\": \"TExt\"}, \"line\": {\"color\": \"rgb(255, 255, 255)\"}, \"opacity\": 0.75}}], {\"height\": 800, \"width\": 800, \"title\": \"test\"}, {\"showLink\": true, \"linkText\": \"Export to plot.ly\"})});</script>"
            ]
          },
          "metadata": {},
          "output_type": "display_data"
        }
      ],
      "source": [
        "trace1 = go.Scatter3d(\n",
        "    x=tsne[:,0],\n",
        "    y=tsne[:,1],\n",
        "    z=tsne[:,2],\n",
        "    mode='markers',\n",
        "    marker=dict(\n",
        "        sizemode='diameter',\n",
        "        color = Chatbot_Text.values,\n",
        "        colorscale = 'Portland',\n",
        "        colorbar = dict(title = 'TExt'),\n",
        "        line=dict(color='rgb(255, 255, 255)'),\n",
        "        opacity=0.75\n",
        "    )\n",
        ")\n",
        "\n",
        "data=[trace1]\n",
        "layout=dict(height=800, width=800, title='test')\n",
        "fig=dict(data=data, layout=layout)\n",
        "py.iplot(fig, filename='3DBubble')\n"
      ]
    },
    {
      "cell_type": "markdown",
      "metadata": {
        "_cell_guid": "3844b950-d8e5-a469-c75a-88487d4289f7",
        "id": "KyqXjHcsnKvm"
      },
      "source": [
        "**Kindly Up vote if you like**"
      ]
    }
  ],
  "metadata": {
    "_change_revision": 1,
    "_is_fork": false,
    "kernelspec": {
      "display_name": "Python 3",
      "language": "python",
      "name": "python3"
    },
    "language_info": {
      "codemirror_mode": {
        "name": "ipython",
        "version": 3
      },
      "file_extension": ".py",
      "mimetype": "text/x-python",
      "name": "python",
      "nbconvert_exporter": "python",
      "pygments_lexer": "ipython3",
      "version": "3.6.0"
    },
    "colab": {
      "name": "Text Classification - ChatBot ",
      "provenance": []
    }
  },
  "nbformat": 4,
  "nbformat_minor": 0
}